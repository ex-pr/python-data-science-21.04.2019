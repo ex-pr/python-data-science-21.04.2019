{
 "cells": [
  {
   "cell_type": "code",
   "execution_count": 2,
   "metadata": {},
   "outputs": [
    {
     "name": "stdout",
     "output_type": "stream",
     "text": [
      "Введите год: 2005\n",
      "Год невисокосный\n"
     ]
    }
   ],
   "source": [
    "# Определить, является ли год, который ввел пользователем, високосным или не високосным.\n",
    "\n",
    "a = int(input('Введите год: '))\n",
    "\n",
    "if a % 4 == 0:\n",
    "    print('Год високосный')\n",
    "else:\n",
    "    print('Год невисокосный') "
   ]
  },
  {
   "cell_type": "code",
   "execution_count": null,
   "metadata": {},
   "outputs": [],
   "source": []
  }
 ],
 "metadata": {
  "kernelspec": {
   "display_name": "Python 3",
   "language": "python",
   "name": "python3"
  },
  "language_info": {
   "codemirror_mode": {
    "name": "ipython",
    "version": 3
   },
   "file_extension": ".py",
   "mimetype": "text/x-python",
   "name": "python",
   "nbconvert_exporter": "python",
   "pygments_lexer": "ipython3",
   "version": "3.7.1"
  }
 },
 "nbformat": 4,
 "nbformat_minor": 2
}
